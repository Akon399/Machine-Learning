{
 "cells": [
  {
   "cell_type": "code",
   "execution_count": 1,
   "id": "d3045df2",
   "metadata": {},
   "outputs": [],
   "source": [
    "# Notes & solution by Akhona Njeje.\n",
    "# Machine Learning metrics.\n",
    "# 31 May 2024.\n",
    "\n",
    "import numpy as np\n",
    "\n",
    "# Given data\n",
    "X1 = np.array([7, 14, 16, 3, 21, 8])\n",
    "X2 = np.array([33, 41, 7, 49, 5, 31])\n",
    "Y = np.array([42, 33, 75, 28, 91, 55])"
   ]
  },
  {
   "cell_type": "code",
   "execution_count": 2,
   "id": "f06eaae0",
   "metadata": {},
   "outputs": [],
   "source": [
    "# Fit the multiple linear regression model\n",
    "X = np.column_stack((np.ones_like(X1), X1, X2))  # Add a column of ones for the intercept\n",
    "beta_hat = np.linalg.inv(X.T @ X) @ X.T @ Y  # Least squares estimator"
   ]
  },
  {
   "cell_type": "code",
   "execution_count": 3,
   "id": "b2986063",
   "metadata": {},
   "outputs": [],
   "source": [
    "Y_pred = X @ beta_hat"
   ]
  },
  {
   "cell_type": "code",
   "execution_count": 4,
   "id": "62f5a897",
   "metadata": {},
   "outputs": [],
   "source": [
    "# Calculate residuals\n",
    "residuals = Y - Y_pred"
   ]
  },
  {
   "cell_type": "code",
   "execution_count": 5,
   "id": "53d98487",
   "metadata": {},
   "outputs": [],
   "source": [
    "# Calculate total sum of squares (SST)\n",
    "SST = np.sum((Y - np.mean(Y))**2)"
   ]
  },
  {
   "cell_type": "code",
   "execution_count": 6,
   "id": "e53b9751",
   "metadata": {},
   "outputs": [],
   "source": [
    "# Calculate sum of squared residuals (SSR)\n",
    "SSR = np.sum(residuals**2)"
   ]
  },
  {
   "cell_type": "code",
   "execution_count": 7,
   "id": "d430d398",
   "metadata": {},
   "outputs": [],
   "source": [
    "# Calculate R-squared (coefficient of determination)\n",
    "R_squared = 1 - SSR / SST"
   ]
  },
  {
   "cell_type": "code",
   "execution_count": 8,
   "id": "000b726f",
   "metadata": {},
   "outputs": [
    {
     "name": "stdout",
     "output_type": "stream",
     "text": [
      "R-squared (coefficient of determination): 0.9484275266021527\n"
     ]
    }
   ],
   "source": [
    "print(\"R-squared (coefficient of determination):\", R_squared)"
   ]
  },
  {
   "cell_type": "code",
   "execution_count": 9,
   "id": "8b3caa62",
   "metadata": {},
   "outputs": [],
   "source": [
    "from scipy.stats import t\n",
    "\n",
    "# Given data\n",
    "X1 = np.array([7, 14, 16, 3, 21, 8])\n",
    "X2 = np.array([33, 41, 7, 49, 5, 31])\n",
    "Y = np.array([42, 33, 75, 28, 91, 55])\n",
    "\n",
    "# Fit the multiple linear regression model\n",
    "X = np.column_stack((np.ones_like(X1), X1, X2))  # Add a column of ones for the intercept\n",
    "beta_hat = np.linalg.inv(X.T @ X) @ X.T @ Y  # Least squares estimator\n",
    "\n",
    "# Calculate residuals\n",
    "residuals = Y - X @ beta_hat"
   ]
  },
  {
   "cell_type": "code",
   "execution_count": 10,
   "id": "e1f47b98",
   "metadata": {},
   "outputs": [],
   "source": [
    "# Calculate standard error of the coefficients\n",
    "n = len(Y)  # number of observations\n",
    "k = X.shape[1] - 1  # number of predictors (excluding intercept)\n",
    "df = n - k - 1  # degrees of freedom\n",
    "MSE = np.sum(residuals**2) / df  # Mean Squared Error\n",
    "cov_beta_hat = MSE * np.linalg.inv(X.T @ X)  # Covariance matrix of beta_hat\n",
    "SE_beta_hat = np.sqrt(np.diag(cov_beta_hat))  # Standard errors of beta_hat"
   ]
  },
  {
   "cell_type": "code",
   "execution_count": 11,
   "id": "f4d9dee0",
   "metadata": {},
   "outputs": [],
   "source": [
    "# Calculate t-statistics for each coefficient\n",
    "t_stat = beta_hat / SE_beta_hat\n",
    "\n",
    "# Calculate critical value from t-distribution (two-tailed test)\n",
    "alpha = 0.05  # significance level\n",
    "t_critical = t.ppf(1 - alpha/2, df)"
   ]
  },
  {
   "cell_type": "code",
   "execution_count": 12,
   "id": "d4c02e1f",
   "metadata": {},
   "outputs": [
    {
     "name": "stdout",
     "output_type": "stream",
     "text": [
      "Coefficient 0: Reject null hypothesis (significant)\n",
      "Coefficient 1: Fail to reject null hypothesis (not significant)\n",
      "Coefficient 2: Reject null hypothesis (significant)\n"
     ]
    }
   ],
   "source": [
    "# Test for each coefficient\n",
    "for i, beta in enumerate(beta_hat):\n",
    "    t_val = t_stat[i]\n",
    "    if np.abs(t_val) > t_critical:\n",
    "        print(f\"Coefficient {i}: Reject null hypothesis (significant)\")\n",
    "    else:\n",
    "        print(f\"Coefficient {i}: Fail to reject null hypothesis (not significant)\")\n",
    "\n",
    "# Note: Coefficient 0 corresponds to the intercept, Coefficient 1 corresponds to bet"
   ]
  },
  {
   "cell_type": "code",
   "execution_count": 13,
   "id": "910d3788",
   "metadata": {},
   "outputs": [],
   "source": [
    "# Fit the multiple linear regression model\n",
    "X = np.column_stack((np.ones_like(X1), X1, X2))  # Add a column of ones for the intercept\n",
    "beta_hat = np.linalg.inv(X.T @ X) @ X.T @ Y  # Least squares estimator\n",
    "\n",
    "# Calculate predicted values\n",
    "Y_pred = X @ beta_hat\n",
    "\n",
    "# Calculate residuals\n",
    "residuals = Y - Y_pred"
   ]
  },
  {
   "cell_type": "code",
   "execution_count": 15,
   "id": "3aee0567",
   "metadata": {},
   "outputs": [
    {
     "data": {
      "text/plain": [
       "Text(0, 0.5, 'Residuals')"
      ]
     },
     "execution_count": 15,
     "metadata": {},
     "output_type": "execute_result"
    },
    {
     "data": {
      "image/png": "[encoded data removed]",
      "text/plain": [
       "<Figure size 864x432 with 1 Axes>"
      ]
     },
     "metadata": {
      "needs_background": "light"
     },
     "output_type": "display_data"
    }
   ],
   "source": [
    "import matplotlib.pyplot as plt\n",
    "\n",
    "# Plot residuals vs. fitted values\n",
    "plt.figure(figsize=(12, 6))\n",
    "plt.subplot(1, 2, 1)\n",
    "plt.scatter(Y_pred, residuals, color='blue')\n",
    "plt.axhline(y=0, color='red', linestyle='--')\n",
    "plt.title('Residuals vs. Fitted Values')\n",
    "plt.xlabel('Fitted Values')\n",
    "plt.ylabel('Residuals')"
   ]
  },
  {
   "cell_type": "code",
   "execution_count": 16,
   "id": "b8465598",
   "metadata": {},
   "outputs": [
    {
     "data": {
      "image/png": "[encoded data removed]",
      "text/plain": [
       "<Figure size 432x288 with 1 Axes>"
      ]
     },
     "metadata": {
      "needs_background": "light"
     },
     "output_type": "display_data"
    }
   ],
   "source": [
    "plt.subplot(1, 2, 2)\n",
    "plt.scatter(Y, residuals, color='green')\n",
    "plt.axhline(y=0, color='red', linestyle='--')\n",
    "plt.title('Residuals vs. Observed Values')\n",
    "plt.xlabel('Observed Values')\n",
    "plt.ylabel('Residuals')\n",
    "\n",
    "plt.tight_layout()\n",
    "plt.show()"
   ]
  },
  {
   "cell_type": "code",
   "execution_count": null,
   "id": "c5e9c98a",
   "metadata": {},
   "outputs": [],
   "source": []
  }
 ],
 "metadata": {
  "kernelspec": {
   "display_name": "Python 3 (ipykernel)",
   "language": "python",
   "name": "python3"
  },
  "language_info": {
   "codemirror_mode": {
    "name": "ipython",
    "version": 3
   },
   "file_extension": ".py",
   "mimetype": "text/x-python",
   "name": "python",
   "nbconvert_exporter": "python",
   "pygments_lexer": "ipython3",
   "version": "3.9.7"
  }
 },
 "nbformat": 4,
 "nbformat_minor": 5
}
