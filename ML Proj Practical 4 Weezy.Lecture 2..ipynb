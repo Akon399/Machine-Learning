{
 "cells": [
  {
   "cell_type": "code",
   "execution_count": 2,
   "id": "2b8f8276",
   "metadata": {},
   "outputs": [],
   "source": [
    "# 16 Jan 2023.\n",
    "# Author : Billionare & Professor Akhona Njeje :-).\n",
    "# ML project on Music recomendation.\n",
    "# This project aims to be a Framework & compas for any beginner in ML.\n",
    "\n",
    "\n",
    "\n",
    "# ---> Gather Data & Load Libraries\n",
    "\n",
    "import pandas as pd\n",
    "import numpy as np\n",
    "import matplotlib as plot\n",
    "from sklearn.tree import DecisionTreeClassifier\n",
    "from sklearn.model_selection import train_test_split\n",
    "from sklearn.metrics import accuracy_score\n",
    "from sklearn import tree\n",
    "# om sklearn.externals import joblib   # This lib helps us save & load models.\n",
    "\n",
    "df = pd.read_csv('musicZA.csv')"
   ]
  },
  {
   "cell_type": "code",
   "execution_count": 3,
   "id": "1191cdbf",
   "metadata": {},
   "outputs": [
    {
     "data": {
      "text/html": [
       "<div>\n",
       "<style scoped>\n",
       "    .dataframe tbody tr th:only-of-type {\n",
       "        vertical-align: middle;\n",
       "    }\n",
       "\n",
       "    .dataframe tbody tr th {\n",
       "        vertical-align: top;\n",
       "    }\n",
       "\n",
       "    .dataframe thead th {\n",
       "        text-align: right;\n",
       "    }\n",
       "</style>\n",
       "<table border=\"1\" class=\"dataframe\">\n",
       "  <thead>\n",
       "    <tr style=\"text-align: right;\">\n",
       "      <th></th>\n",
       "      <th>age</th>\n",
       "      <th>gender</th>\n",
       "      <th>genre</th>\n",
       "    </tr>\n",
       "  </thead>\n",
       "  <tbody>\n",
       "    <tr>\n",
       "      <th>0</th>\n",
       "      <td>20</td>\n",
       "      <td>1</td>\n",
       "      <td>HipHop</td>\n",
       "    </tr>\n",
       "    <tr>\n",
       "      <th>1</th>\n",
       "      <td>23</td>\n",
       "      <td>1</td>\n",
       "      <td>HipHop</td>\n",
       "    </tr>\n",
       "    <tr>\n",
       "      <th>2</th>\n",
       "      <td>25</td>\n",
       "      <td>1</td>\n",
       "      <td>HipHop</td>\n",
       "    </tr>\n",
       "    <tr>\n",
       "      <th>3</th>\n",
       "      <td>26</td>\n",
       "      <td>1</td>\n",
       "      <td>House</td>\n",
       "    </tr>\n",
       "    <tr>\n",
       "      <th>4</th>\n",
       "      <td>29</td>\n",
       "      <td>1</td>\n",
       "      <td>House</td>\n",
       "    </tr>\n",
       "  </tbody>\n",
       "</table>\n",
       "</div>"
      ],
      "text/plain": [
       "   age  gender   genre\n",
       "0   20       1  HipHop\n",
       "1   23       1  HipHop\n",
       "2   25       1  HipHop\n",
       "3   26       1   House\n",
       "4   29       1   House"
      ]
     },
     "execution_count": 3,
     "metadata": {},
     "output_type": "execute_result"
    }
   ],
   "source": [
    "# ---> Lets Inspect & Analyse our Dataset/frame.\n",
    "\n",
    "# df = dataset = dataframe = Table & all its values.\n",
    "# df.head() = 1st 5rows of our df.\n",
    "# df.shape = (Rows, Columns).\n",
    "# df.describe() = Descriptive Statistics = Mean, Std Dev, Variance etc,...\n",
    "#                 on each column.\n",
    "# df.values = array([[1,a], [2,b], [3,c]]) info on our dataset.\n",
    "\n",
    "df.head()   # Gender = 1(Male) & 0(Female)."
   ]
  },
  {
   "cell_type": "code",
   "execution_count": 4,
   "id": "270b1468",
   "metadata": {},
   "outputs": [
    {
     "data": {
      "text/plain": [
       "(18, 3)"
      ]
     },
     "execution_count": 4,
     "metadata": {},
     "output_type": "execute_result"
    }
   ],
   "source": [
    "df.shape"
   ]
  },
  {
   "cell_type": "code",
   "execution_count": 5,
   "id": "8e27eebf",
   "metadata": {},
   "outputs": [
    {
     "data": {
      "text/html": [
       "<div>\n",
       "<style scoped>\n",
       "    .dataframe tbody tr th:only-of-type {\n",
       "        vertical-align: middle;\n",
       "    }\n",
       "\n",
       "    .dataframe tbody tr th {\n",
       "        vertical-align: top;\n",
       "    }\n",
       "\n",
       "    .dataframe thead th {\n",
       "        text-align: right;\n",
       "    }\n",
       "</style>\n",
       "<table border=\"1\" class=\"dataframe\">\n",
       "  <thead>\n",
       "    <tr style=\"text-align: right;\">\n",
       "      <th></th>\n",
       "      <th>age</th>\n",
       "      <th>gender</th>\n",
       "    </tr>\n",
       "  </thead>\n",
       "  <tbody>\n",
       "    <tr>\n",
       "      <th>count</th>\n",
       "      <td>18.000000</td>\n",
       "      <td>18.000000</td>\n",
       "    </tr>\n",
       "    <tr>\n",
       "      <th>mean</th>\n",
       "      <td>27.944444</td>\n",
       "      <td>0.500000</td>\n",
       "    </tr>\n",
       "    <tr>\n",
       "      <th>std</th>\n",
       "      <td>5.127460</td>\n",
       "      <td>0.514496</td>\n",
       "    </tr>\n",
       "    <tr>\n",
       "      <th>min</th>\n",
       "      <td>20.000000</td>\n",
       "      <td>0.000000</td>\n",
       "    </tr>\n",
       "    <tr>\n",
       "      <th>25%</th>\n",
       "      <td>25.000000</td>\n",
       "      <td>0.000000</td>\n",
       "    </tr>\n",
       "    <tr>\n",
       "      <th>50%</th>\n",
       "      <td>28.000000</td>\n",
       "      <td>0.500000</td>\n",
       "    </tr>\n",
       "    <tr>\n",
       "      <th>75%</th>\n",
       "      <td>31.000000</td>\n",
       "      <td>1.000000</td>\n",
       "    </tr>\n",
       "    <tr>\n",
       "      <th>max</th>\n",
       "      <td>37.000000</td>\n",
       "      <td>1.000000</td>\n",
       "    </tr>\n",
       "  </tbody>\n",
       "</table>\n",
       "</div>"
      ],
      "text/plain": [
       "             age     gender\n",
       "count  18.000000  18.000000\n",
       "mean   27.944444   0.500000\n",
       "std     5.127460   0.514496\n",
       "min    20.000000   0.000000\n",
       "25%    25.000000   0.000000\n",
       "50%    28.000000   0.500000\n",
       "75%    31.000000   1.000000\n",
       "max    37.000000   1.000000"
      ]
     },
     "execution_count": 5,
     "metadata": {},
     "output_type": "execute_result"
    }
   ],
   "source": [
    "df.describe()"
   ]
  },
  {
   "cell_type": "code",
   "execution_count": 6,
   "id": "d5b0c5cb",
   "metadata": {},
   "outputs": [
    {
     "data": {
      "text/plain": [
       "array([[20, 1, 'HipHop'],\n",
       "       [23, 1, 'HipHop'],\n",
       "       [25, 1, 'HipHop'],\n",
       "       [26, 1, 'House'],\n",
       "       [29, 1, 'House'],\n",
       "       [30, 1, 'House'],\n",
       "       [31, 1, 'Classical'],\n",
       "       [33, 1, 'Classical'],\n",
       "       [37, 1, 'Classical'],\n",
       "       [20, 0, 'Dance'],\n",
       "       [21, 0, 'Dance'],\n",
       "       [25, 0, 'Dance'],\n",
       "       [26, 0, 'Piano'],\n",
       "       [27, 0, 'Piano'],\n",
       "       [30, 0, 'Piano'],\n",
       "       [31, 0, 'Gospel'],\n",
       "       [34, 0, 'Gospel'],\n",
       "       [35, 0, 'Gospel']], dtype=object)"
      ]
     },
     "execution_count": 6,
     "metadata": {},
     "output_type": "execute_result"
    }
   ],
   "source": [
    "df.values"
   ]
  },
  {
   "cell_type": "code",
   "execution_count": 7,
   "id": "f3688864",
   "metadata": {},
   "outputs": [
    {
     "name": "stdout",
     "output_type": "stream",
     "text": [
      "      age  gender  genre\n",
      "0   False   False  False\n",
      "1   False   False  False\n",
      "2   False   False  False\n",
      "3   False   False  False\n",
      "4   False   False  False\n",
      "5   False   False  False\n",
      "6   False   False  False\n",
      "7   False   False  False\n",
      "8   False   False  False\n",
      "9   False   False  False\n",
      "10  False   False  False\n",
      "11  False   False  False\n",
      "12  False   False  False\n",
      "13  False   False  False\n",
      "14  False   False  False\n",
      "15  False   False  False\n",
      "16  False   False  False\n",
      "17  False   False  False\n"
     ]
    }
   ],
   "source": [
    "# ---> Cleaning data.\n",
    "\n",
    "print(df.isnull())   # Is Our data clean?.If yes, proceed to Prep :-)."
   ]
  },
  {
   "cell_type": "code",
   "execution_count": 8,
   "id": "a586e32a",
   "metadata": {},
   "outputs": [
    {
     "data": {
      "text/html": [
       "<div>\n",
       "<style scoped>\n",
       "    .dataframe tbody tr th:only-of-type {\n",
       "        vertical-align: middle;\n",
       "    }\n",
       "\n",
       "    .dataframe tbody tr th {\n",
       "        vertical-align: top;\n",
       "    }\n",
       "\n",
       "    .dataframe thead th {\n",
       "        text-align: right;\n",
       "    }\n",
       "</style>\n",
       "<table border=\"1\" class=\"dataframe\">\n",
       "  <thead>\n",
       "    <tr style=\"text-align: right;\">\n",
       "      <th></th>\n",
       "      <th>age</th>\n",
       "      <th>gender</th>\n",
       "    </tr>\n",
       "  </thead>\n",
       "  <tbody>\n",
       "    <tr>\n",
       "      <th>0</th>\n",
       "      <td>20</td>\n",
       "      <td>1</td>\n",
       "    </tr>\n",
       "    <tr>\n",
       "      <th>1</th>\n",
       "      <td>23</td>\n",
       "      <td>1</td>\n",
       "    </tr>\n",
       "    <tr>\n",
       "      <th>2</th>\n",
       "      <td>25</td>\n",
       "      <td>1</td>\n",
       "    </tr>\n",
       "    <tr>\n",
       "      <th>3</th>\n",
       "      <td>26</td>\n",
       "      <td>1</td>\n",
       "    </tr>\n",
       "    <tr>\n",
       "      <th>4</th>\n",
       "      <td>29</td>\n",
       "      <td>1</td>\n",
       "    </tr>\n",
       "    <tr>\n",
       "      <th>5</th>\n",
       "      <td>30</td>\n",
       "      <td>1</td>\n",
       "    </tr>\n",
       "    <tr>\n",
       "      <th>6</th>\n",
       "      <td>31</td>\n",
       "      <td>1</td>\n",
       "    </tr>\n",
       "    <tr>\n",
       "      <th>7</th>\n",
       "      <td>33</td>\n",
       "      <td>1</td>\n",
       "    </tr>\n",
       "    <tr>\n",
       "      <th>8</th>\n",
       "      <td>37</td>\n",
       "      <td>1</td>\n",
       "    </tr>\n",
       "    <tr>\n",
       "      <th>9</th>\n",
       "      <td>20</td>\n",
       "      <td>0</td>\n",
       "    </tr>\n",
       "    <tr>\n",
       "      <th>10</th>\n",
       "      <td>21</td>\n",
       "      <td>0</td>\n",
       "    </tr>\n",
       "    <tr>\n",
       "      <th>11</th>\n",
       "      <td>25</td>\n",
       "      <td>0</td>\n",
       "    </tr>\n",
       "    <tr>\n",
       "      <th>12</th>\n",
       "      <td>26</td>\n",
       "      <td>0</td>\n",
       "    </tr>\n",
       "    <tr>\n",
       "      <th>13</th>\n",
       "      <td>27</td>\n",
       "      <td>0</td>\n",
       "    </tr>\n",
       "    <tr>\n",
       "      <th>14</th>\n",
       "      <td>30</td>\n",
       "      <td>0</td>\n",
       "    </tr>\n",
       "    <tr>\n",
       "      <th>15</th>\n",
       "      <td>31</td>\n",
       "      <td>0</td>\n",
       "    </tr>\n",
       "    <tr>\n",
       "      <th>16</th>\n",
       "      <td>34</td>\n",
       "      <td>0</td>\n",
       "    </tr>\n",
       "    <tr>\n",
       "      <th>17</th>\n",
       "      <td>35</td>\n",
       "      <td>0</td>\n",
       "    </tr>\n",
       "  </tbody>\n",
       "</table>\n",
       "</div>"
      ],
      "text/plain": [
       "    age  gender\n",
       "0    20       1\n",
       "1    23       1\n",
       "2    25       1\n",
       "3    26       1\n",
       "4    29       1\n",
       "5    30       1\n",
       "6    31       1\n",
       "7    33       1\n",
       "8    37       1\n",
       "9    20       0\n",
       "10   21       0\n",
       "11   25       0\n",
       "12   26       0\n",
       "13   27       0\n",
       "14   30       0\n",
       "15   31       0\n",
       "16   34       0\n",
       "17   35       0"
      ]
     },
     "execution_count": 8,
     "metadata": {},
     "output_type": "execute_result"
    }
   ],
   "source": [
    "# ---> Split the data into input & output.\n",
    "\n",
    "X = df.drop(columns = ['genre'])   # This will be our Input dataset = X.\n",
    "X"
   ]
  },
  {
   "cell_type": "code",
   "execution_count": 9,
   "id": "5d865efe",
   "metadata": {},
   "outputs": [
    {
     "data": {
      "text/plain": [
       "0        HipHop\n",
       "1        HipHop\n",
       "2        HipHop\n",
       "3         House\n",
       "4         House\n",
       "5         House\n",
       "6     Classical\n",
       "7     Classical\n",
       "8     Classical\n",
       "9         Dance\n",
       "10        Dance\n",
       "11        Dance\n",
       "12        Piano\n",
       "13        Piano\n",
       "14        Piano\n",
       "15       Gospel\n",
       "16       Gospel\n",
       "17       Gospel\n",
       "Name: genre, dtype: object"
      ]
     },
     "execution_count": 9,
     "metadata": {},
     "output_type": "execute_result"
    }
   ],
   "source": [
    "y = df['genre']   # This will be our Output dataset = y.\n",
    "y"
   ]
  },
  {
   "cell_type": "code",
   "execution_count": 10,
   "id": "fa1e06c7",
   "metadata": {},
   "outputs": [
    {
     "name": "stdout",
     "output_type": "stream",
     "text": [
      "Prediction = ['House']\n",
      "Prediction1 = ['HipHop' 'Dance']\n",
      "Prediction2 = ['Gospel']\n"
     ]
    },
    {
     "name": "stderr",
     "output_type": "stream",
     "text": [
      "C:\\Users\\Akhona.Njeje\\Anaconda3\\lib\\site-packages\\sklearn\\base.py:450: UserWarning: X does not have valid feature names, but DecisionTreeClassifier was fitted with feature names\n",
      "  warnings.warn(\n",
      "C:\\Users\\Akhona.Njeje\\Anaconda3\\lib\\site-packages\\sklearn\\base.py:450: UserWarning: X does not have valid feature names, but DecisionTreeClassifier was fitted with feature names\n",
      "  warnings.warn(\n",
      "C:\\Users\\Akhona.Njeje\\Anaconda3\\lib\\site-packages\\sklearn\\base.py:450: UserWarning: X does not have valid feature names, but DecisionTreeClassifier was fitted with feature names\n",
      "  warnings.warn(\n"
     ]
    }
   ],
   "source": [
    "# ---> Model creation using ML Algorithms.\n",
    "#      Note: Theres alot of ML Algorithms & each produces different results.\n",
    "\n",
    "model = DecisionTreeClassifier()   \n",
    "model.fit(X, y)   # Training our model to learn from patterns in our data.\n",
    "#                   -fit(Input set, Output set).\n",
    "\n",
    "\n",
    "\n",
    "# Lets make a prediction & see if our model works.\n",
    "\n",
    "prediction = model.predict([[28, 1]])\n",
    "print(\"Prediction =\", prediction)\n",
    "\n",
    "prediction1 = model.predict([[21, 1], [22, 0]])\n",
    "print(\"Prediction1 =\", prediction1)\n",
    "\n",
    "prediction2 = model.predict([[31, 0]])\n",
    "print(\"Prediction2 =\", prediction2)"
   ]
  },
  {
   "cell_type": "code",
   "execution_count": 11,
   "id": "f9c786a1",
   "metadata": {},
   "outputs": [
    {
     "name": "stdout",
     "output_type": "stream",
     "text": [
      "Accuracy Score =  100.0 %.\n"
     ]
    }
   ],
   "source": [
    "# ---> Measuring Accuracy of a model.\n",
    "#      We need to split our dataset into training & testing before.\n",
    "\n",
    "X_train, X_test, y_train, y_test = train_test_split(X, y, test_size = 0.2)   # 20% of our data is for Testing.\n",
    "model.fit(X_train, y_train)\n",
    "predictions = model.predict(X_test)\n",
    "\n",
    "Acc_score = accuracy_score(y_test, predictions)\n",
    "print(\"Accuracy Score = \", Acc_score*100,\"%.\")   # Our Accuracy changes by big margins,\n",
    "#                                                  reason is small dataset.\n",
    "\n",
    "# ---> Model Persistance.\n",
    "#      Persistance uses a method called JobLib.dump(model_name, 'file_name-recommender.job')\n",
    "\n",
    "# joblib.dump(model, 'musicZA-recommender.joblib')"
   ]
  },
  {
   "cell_type": "code",
   "execution_count": 12,
   "id": "410ca438",
   "metadata": {},
   "outputs": [],
   "source": [
    "# ---> Visualising code on Decision Trees.\n",
    "\n",
    "tree.export_graphviz(model, out_file = 'musicZA-recommender.dot',\n",
    "                    feature_names = ['age', 'gender'], \n",
    "                    class_names = sorted(y.unique()), label = 'all', rounded=True,\n",
    "                    filled = True)\n",
    "\n",
    "# This code will produce a file that shows us how our model goes about,\n",
    "# making a decision.\n",
    "\n",
    "# How to Visualise a dot file?\n",
    "#        1. Install an Extension called GraphViz on your VSC terminal.\n",
    "#        2.Click on \"...\" & click on \"Open Preview\". "
   ]
  },
  {
   "cell_type": "code",
   "execution_count": 13,
   "id": "5828e041",
   "metadata": {},
   "outputs": [
    {
     "data": {
      "image/png": "[encoded data removed]",
      "text/plain": [
       "<Figure size 432x288 with 1 Axes>"
      ]
     },
     "metadata": {
      "needs_background": "light"
     },
     "output_type": "display_data"
    }
   ],
   "source": [
    "# matplotlib Bonus lecture.\n",
    "\n",
    "import matplotlib.pyplot as plt\n",
    "\n",
    "def found_fit(x):\n",
    "    return 0.388 * x**2  # Found with symfit.\n",
    "\n",
    "x_data = list(range(10))\n",
    "y_data = [2, 3, 5, 7, 11, 13, 17, 19, 23, 29]\n",
    "\n",
    "x_func = np.linspace(0, 10, 50)\n",
    "# numpy will do the right thing and evaluate found_fit for all elements\n",
    "y_func = found_fit(x_func)\n",
    "\n",
    "# From here the plotting starts\n",
    "\n",
    "plt.scatter(x_data, y_data, c='r', label='data')\n",
    "plt.plot(x_func, y_func, label='$f(x) = 0.388 x^2$')\n",
    "plt.xlabel('x')\n",
    "plt.ylabel('y')\n",
    "plt.title('Fitting primes')\n",
    "plt.legend()\n",
    "plt.show()"
   ]
  },
  {
   "cell_type": "code",
   "execution_count": 14,
   "id": "7481657e",
   "metadata": {},
   "outputs": [
    {
     "data": {
      "image/png": "[encoded data removed]",
      "text/plain": [
       "<Figure size 432x288 with 2 Axes>"
      ]
     },
     "metadata": {
      "needs_background": "light"
     },
     "output_type": "display_data"
    }
   ],
   "source": [
    "x_data1 = [0.1, 0.2, 0.3, 0.4]\n",
    "y_data1 = [1, 2, 3, 4]\n",
    "\n",
    "x_data2 = [0.1, 0.2, 0.3, 0.4]\n",
    "y_data2 = [1, 4, 9, 16]\n",
    "\n",
    "fig = plt.figure()\n",
    "ax1 = fig.add_subplot(1, 2, 1)\n",
    "ax2 = fig.add_subplot(1, 2, 2)\n",
    "ax1.plot(x_data1, y_data1, label='data 1')\n",
    "ax2.plot(x_data2, y_data2, label='data 2')\n",
    "ax1.set_xlabel('Time (s)')\n",
    "ax1.set_ylabel('Scale (Bananas)')\n",
    "ax1.set_title('first data set')\n",
    "ax1.legend()\n",
    "ax2.set_xlabel('Time (s)')\n",
    "ax2.set_ylabel('Scale (Bananas)')\n",
    "ax2.set_title('second data set')\n",
    "ax2.legend()\n",
    "\n",
    "plt.show()"
   ]
  },
  {
   "cell_type": "code",
   "execution_count": null,
   "id": "2395d647",
   "metadata": {},
   "outputs": [],
   "source": []
  }
 ],
 "metadata": {
  "kernelspec": {
   "display_name": "Python 3 (ipykernel)",
   "language": "python",
   "name": "python3"
  },
  "language_info": {
   "codemirror_mode": {
    "name": "ipython",
    "version": 3
   },
   "file_extension": ".py",
   "mimetype": "text/x-python",
   "name": "python",
   "nbconvert_exporter": "python",
   "pygments_lexer": "ipython3",
   "version": "3.9.7"
  }
 },
 "nbformat": 4,
 "nbformat_minor": 5
}
